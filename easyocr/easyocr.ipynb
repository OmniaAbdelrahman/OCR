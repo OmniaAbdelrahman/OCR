{
 "cells": [
  {
   "cell_type": "code",
   "execution_count": 1,
   "id": "e009b408",
   "metadata": {},
   "outputs": [
    {
     "name": "stdout",
     "output_type": "stream",
     "text": [
      "^C\n"
     ]
    }
   ],
   "source": [
    "!pip install easyocr"
   ]
  },
  {
   "cell_type": "code",
   "execution_count": null,
   "id": "9daa317f",
   "metadata": {},
   "outputs": [],
   "source": [
    "# load example images\n",
    "!npx degit JaidedAI/EasyOCR/examples -f"
   ]
  },
  {
   "cell_type": "code",
   "execution_count": null,
   "id": "69b6b776",
   "metadata": {},
   "outputs": [],
   "source": [
    "# list them\n",
    "!ls -l"
   ]
  },
  {
   "cell_type": "code",
   "execution_count": null,
   "id": "f1e902ad",
   "metadata": {},
   "outputs": [],
   "source": [
    "# show an image\n",
    "import PIL\n",
    "from PIL import ImageDraw\n",
    "im = PIL.Image.open(\"ahram.jpg\")\n",
    "im"
   ]
  },
  {
   "cell_type": "code",
   "execution_count": null,
   "id": "25125154",
   "metadata": {},
   "outputs": [],
   "source": [
    "# Create a reader to do OCR.\n",
    "# If you change to GPU instance, it will be faster. But CPU is enough.\n",
    "# (by MENU > Runtime > Change runtime type > GPU, then redo from beginning )\n",
    "import easyocr\n",
    "#reader = easyocr.Reader(['th','en'])\n",
    "#reader = easyocr.Reader(['en'])\n",
    "reader = easyocr.Reader(['ar','en'])"
   ]
  },
  {
   "cell_type": "code",
   "execution_count": null,
   "id": "88cea4cc",
   "metadata": {},
   "outputs": [],
   "source": [
    "# Doing OCR. Get bounding boxes.\n",
    "bounds = reader.readtext(\"ahram.jpg\")\n",
    "bounds"
   ]
  },
  {
   "cell_type": "code",
   "execution_count": null,
   "id": "548a5a52",
   "metadata": {},
   "outputs": [],
   "source": [
    "# Draw bounding boxes\n",
    "def draw_boxes(image, bounds, color='yellow', width=2):\n",
    "    draw = ImageDraw.Draw(image)\n",
    "    for bound in bounds:\n",
    "        p0, p1, p2, p3 = bound[0]\n",
    "        draw.line([*p0, *p1, \n",
    "                   *p2, *p3, *p0], fill=color, width=width)\n",
    "    return image\n",
    "\n",
    "draw_boxes(im, bounds)"
   ]
  },
  {
   "cell_type": "code",
   "execution_count": null,
   "id": "2f7daa87",
   "metadata": {},
   "outputs": [],
   "source": []
  },
  {
   "cell_type": "code",
   "execution_count": null,
   "id": "d2f3380b",
   "metadata": {},
   "outputs": [],
   "source": []
  }
 ],
 "metadata": {
  "kernelspec": {
   "display_name": "img_env",
   "language": "python",
   "name": "img_env"
  },
  "language_info": {
   "codemirror_mode": {
    "name": "ipython",
    "version": 3
   },
   "file_extension": ".py",
   "mimetype": "text/x-python",
   "name": "python",
   "nbconvert_exporter": "python",
   "pygments_lexer": "ipython3",
   "version": "3.9.11"
  }
 },
 "nbformat": 4,
 "nbformat_minor": 5
}
