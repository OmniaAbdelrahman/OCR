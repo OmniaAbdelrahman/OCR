{
 "cells": [
  {
   "cell_type": "code",
   "execution_count": 1,
   "id": "b1d25d1c",
   "metadata": {},
   "outputs": [],
   "source": [
    "import cv2\n",
    "import pytesseract"
   ]
  },
  {
   "cell_type": "code",
   "execution_count": 2,
   "id": "e213762d",
   "metadata": {},
   "outputs": [],
   "source": [
    "img = cv2.imread(\"C:/Users/omnia.abdelrahman/Pictures/OCR\\Haar/kia-seltos-car-number-plate-designs.jpeg\")"
   ]
  },
  {
   "cell_type": "code",
   "execution_count": 3,
   "id": "cacc4e80",
   "metadata": {},
   "outputs": [],
   "source": [
    "# Detect Number Plate\n",
    "number_plate_cascade = cv2.CascadeClassifier(\"haarcascade_russian_plate_number.xml\")"
   ]
  },
  {
   "cell_type": "code",
   "execution_count": 4,
   "id": "f4ac443c",
   "metadata": {},
   "outputs": [],
   "source": [
    "gray = cv2.cvtColor(img, cv2.COLOR_BGR2GRAY)\n",
    "number_plate_segment = number_plate_cascade.detectMultiScale(gray)"
   ]
  },
  {
   "cell_type": "code",
   "execution_count": 5,
   "id": "b4316516",
   "metadata": {},
   "outputs": [],
   "source": [
    "# Recognize the Number Plate\n",
    "pytesseract.pytesseract.tesseract_cmd = r\"C:\\Program Files\\Tesseract-OCR\\tesseract.exe\""
   ]
  },
  {
   "cell_type": "code",
   "execution_count": 6,
   "id": "293dda88",
   "metadata": {},
   "outputs": [
    {
     "name": "stdout",
     "output_type": "stream",
     "text": [
      "KA 05 NB 1786\n",
      "\n"
     ]
    }
   ],
   "source": [
    "for x,y,w,h in number_plate_segment:\n",
    "    segment = gray[y:y+h, x:x+w]\n",
    "    text = pytesseract.image_to_string(segment, config = r'--psm 6')\n",
    "    print(text)\n",
    "    cv2.rectangle(img, (x,y), (x+w,y+h), (255,0,0),2)\n",
    "    cv2.putText(img, text.strip(), (x,y-30), cv2.FONT_HERSHEY_COMPLEX, 1.5, (0,0,255),3)\n",
    "    cv2.imshow('a', img)\n",
    "    cv2.waitKey(0)"
   ]
  }
 ],
 "metadata": {
  "kernelspec": {
   "display_name": "img_env",
   "language": "python",
   "name": "img_env"
  },
  "language_info": {
   "codemirror_mode": {
    "name": "ipython",
    "version": 3
   },
   "file_extension": ".py",
   "mimetype": "text/x-python",
   "name": "python",
   "nbconvert_exporter": "python",
   "pygments_lexer": "ipython3",
   "version": "3.9.11"
  }
 },
 "nbformat": 4,
 "nbformat_minor": 5
}
